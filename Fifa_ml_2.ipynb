{
 "cells": [
  {
   "cell_type": "code",
   "execution_count": 78,
   "metadata": {},
   "outputs": [],
   "source": [
    "import numpy as np\n",
    "import pandas as pd\n",
    "import matplotlib.pyplot as plt\n",
    "\n",
    "from sklearn.model_selection import train_test_split\n",
    "from sklearn.ensemble import RandomForestClassifier, GradientBoostingClassifier\n",
    "from sklearn.linear_model import LogisticRegression, LinearRegression\n",
    "from sklearn.preprocessing import StandardScaler\n",
    "from sklearn.model_selection import GridSearchCV, RandomizedSearchCV\n",
    "from sklearn.ensemble import RandomForestRegressor\n",
    "\n",
    "import seaborn as sns\n",
    "\n",
    "from sklearn.metrics import confusion_matrix, accuracy_score, f1_score, classification_report, plot_confusion_matrix\n",
    "from sklearn.metrics import mean_squared_error, r2_score"
   ]
  },
  {
   "cell_type": "code",
   "execution_count": 2,
   "metadata": {},
   "outputs": [],
   "source": [
    "fifa = pd.read_csv('fifa_data.csv')"
   ]
  },
  {
   "cell_type": "code",
   "execution_count": 3,
   "metadata": {},
   "outputs": [
    {
     "data": {
      "text/plain": [
       "Index(['Unnamed: 0', 'ID', 'Name', 'Age', 'Photo', 'Nationality', 'Flag',\n",
       "       'Overall', 'Potential', 'Club', 'Club Logo', 'Value', 'Wage', 'Special',\n",
       "       'Preferred Foot', 'International Reputation', 'Weak Foot',\n",
       "       'Skill Moves', 'Work Rate', 'Body Type', 'Real Face', 'Position',\n",
       "       'Jersey Number', 'Joined', 'Loaned From', 'Contract Valid Until',\n",
       "       'Height', 'Weight', 'LS', 'ST', 'RS', 'LW', 'LF', 'CF', 'RF', 'RW',\n",
       "       'LAM', 'CAM', 'RAM', 'LM', 'LCM', 'CM', 'RCM', 'RM', 'LWB', 'LDM',\n",
       "       'CDM', 'RDM', 'RWB', 'LB', 'LCB', 'CB', 'RCB', 'RB', 'Crossing',\n",
       "       'Finishing', 'HeadingAccuracy', 'ShortPassing', 'Volleys', 'Dribbling',\n",
       "       'Curve', 'FKAccuracy', 'LongPassing', 'BallControl', 'Acceleration',\n",
       "       'SprintSpeed', 'Agility', 'Reactions', 'Balance', 'ShotPower',\n",
       "       'Jumping', 'Stamina', 'Strength', 'LongShots', 'Aggression',\n",
       "       'Interceptions', 'Positioning', 'Vision', 'Penalties', 'Composure',\n",
       "       'Marking', 'StandingTackle', 'SlidingTackle', 'GKDiving', 'GKHandling',\n",
       "       'GKKicking', 'GKPositioning', 'GKReflexes', 'Release Clause'],\n",
       "      dtype='object')"
      ]
     },
     "execution_count": 3,
     "metadata": {},
     "output_type": "execute_result"
    }
   ],
   "source": [
    "fifa.columns"
   ]
  },
  {
   "cell_type": "code",
   "execution_count": 4,
   "metadata": {},
   "outputs": [],
   "source": [
    "columns = ['Unnamed: 0','Flag', 'ID', 'Photo', 'Nationality', 'Flag','Club', 'Club Logo','Special','Real Face','Jersey Number',\n",
    "           'Joined', 'Loaned From', 'Contract Valid Until']\n",
    "fifa.drop(columns=columns, inplace=True)"
   ]
  },
  {
   "cell_type": "code",
   "execution_count": 5,
   "metadata": {},
   "outputs": [],
   "source": [
    "fifa.drop(index=fifa[fifa['Preferred Foot'].isna()].index,inplace=True)\n",
    "fifa.drop(index=fifa[fifa['Position'].isna()].index,inplace=True)"
   ]
  },
  {
   "cell_type": "code",
   "execution_count": 6,
   "metadata": {},
   "outputs": [
    {
     "name": "stdout",
     "output_type": "stream",
     "text": [
      "<class 'pandas.core.frame.DataFrame'>\n",
      "Int64Index: 18147 entries, 0 to 18206\n",
      "Data columns (total 76 columns):\n",
      " #   Column                    Non-Null Count  Dtype  \n",
      "---  ------                    --------------  -----  \n",
      " 0   Name                      18147 non-null  object \n",
      " 1   Age                       18147 non-null  int64  \n",
      " 2   Overall                   18147 non-null  int64  \n",
      " 3   Potential                 18147 non-null  int64  \n",
      " 4   Value                     18147 non-null  object \n",
      " 5   Wage                      18147 non-null  object \n",
      " 6   Preferred Foot            18147 non-null  object \n",
      " 7   International Reputation  18147 non-null  float64\n",
      " 8   Weak Foot                 18147 non-null  float64\n",
      " 9   Skill Moves               18147 non-null  float64\n",
      " 10  Work Rate                 18147 non-null  object \n",
      " 11  Body Type                 18147 non-null  object \n",
      " 12  Position                  18147 non-null  object \n",
      " 13  Height                    18147 non-null  object \n",
      " 14  Weight                    18147 non-null  object \n",
      " 15  LS                        16122 non-null  object \n",
      " 16  ST                        16122 non-null  object \n",
      " 17  RS                        16122 non-null  object \n",
      " 18  LW                        16122 non-null  object \n",
      " 19  LF                        16122 non-null  object \n",
      " 20  CF                        16122 non-null  object \n",
      " 21  RF                        16122 non-null  object \n",
      " 22  RW                        16122 non-null  object \n",
      " 23  LAM                       16122 non-null  object \n",
      " 24  CAM                       16122 non-null  object \n",
      " 25  RAM                       16122 non-null  object \n",
      " 26  LM                        16122 non-null  object \n",
      " 27  LCM                       16122 non-null  object \n",
      " 28  CM                        16122 non-null  object \n",
      " 29  RCM                       16122 non-null  object \n",
      " 30  RM                        16122 non-null  object \n",
      " 31  LWB                       16122 non-null  object \n",
      " 32  LDM                       16122 non-null  object \n",
      " 33  CDM                       16122 non-null  object \n",
      " 34  RDM                       16122 non-null  object \n",
      " 35  RWB                       16122 non-null  object \n",
      " 36  LB                        16122 non-null  object \n",
      " 37  LCB                       16122 non-null  object \n",
      " 38  CB                        16122 non-null  object \n",
      " 39  RCB                       16122 non-null  object \n",
      " 40  RB                        16122 non-null  object \n",
      " 41  Crossing                  18147 non-null  float64\n",
      " 42  Finishing                 18147 non-null  float64\n",
      " 43  HeadingAccuracy           18147 non-null  float64\n",
      " 44  ShortPassing              18147 non-null  float64\n",
      " 45  Volleys                   18147 non-null  float64\n",
      " 46  Dribbling                 18147 non-null  float64\n",
      " 47  Curve                     18147 non-null  float64\n",
      " 48  FKAccuracy                18147 non-null  float64\n",
      " 49  LongPassing               18147 non-null  float64\n",
      " 50  BallControl               18147 non-null  float64\n",
      " 51  Acceleration              18147 non-null  float64\n",
      " 52  SprintSpeed               18147 non-null  float64\n",
      " 53  Agility                   18147 non-null  float64\n",
      " 54  Reactions                 18147 non-null  float64\n",
      " 55  Balance                   18147 non-null  float64\n",
      " 56  ShotPower                 18147 non-null  float64\n",
      " 57  Jumping                   18147 non-null  float64\n",
      " 58  Stamina                   18147 non-null  float64\n",
      " 59  Strength                  18147 non-null  float64\n",
      " 60  LongShots                 18147 non-null  float64\n",
      " 61  Aggression                18147 non-null  float64\n",
      " 62  Interceptions             18147 non-null  float64\n",
      " 63  Positioning               18147 non-null  float64\n",
      " 64  Vision                    18147 non-null  float64\n",
      " 65  Penalties                 18147 non-null  float64\n",
      " 66  Composure                 18147 non-null  float64\n",
      " 67  Marking                   18147 non-null  float64\n",
      " 68  StandingTackle            18147 non-null  float64\n",
      " 69  SlidingTackle             18147 non-null  float64\n",
      " 70  GKDiving                  18147 non-null  float64\n",
      " 71  GKHandling                18147 non-null  float64\n",
      " 72  GKKicking                 18147 non-null  float64\n",
      " 73  GKPositioning             18147 non-null  float64\n",
      " 74  GKReflexes                18147 non-null  float64\n",
      " 75  Release Clause            16643 non-null  object \n",
      "dtypes: float64(37), int64(3), object(36)\n",
      "memory usage: 10.7+ MB\n"
     ]
    }
   ],
   "source": [
    "fifa.info()"
   ]
  },
  {
   "cell_type": "code",
   "execution_count": 7,
   "metadata": {},
   "outputs": [
    {
     "data": {
      "text/html": [
       "<div>\n",
       "<style scoped>\n",
       "    .dataframe tbody tr th:only-of-type {\n",
       "        vertical-align: middle;\n",
       "    }\n",
       "\n",
       "    .dataframe tbody tr th {\n",
       "        vertical-align: top;\n",
       "    }\n",
       "\n",
       "    .dataframe thead th {\n",
       "        text-align: right;\n",
       "    }\n",
       "</style>\n",
       "<table border=\"1\" class=\"dataframe\">\n",
       "  <thead>\n",
       "    <tr style=\"text-align: right;\">\n",
       "      <th></th>\n",
       "      <th>Age</th>\n",
       "      <th>Overall</th>\n",
       "      <th>Potential</th>\n",
       "      <th>International Reputation</th>\n",
       "      <th>Weak Foot</th>\n",
       "      <th>Skill Moves</th>\n",
       "      <th>Crossing</th>\n",
       "      <th>Finishing</th>\n",
       "      <th>HeadingAccuracy</th>\n",
       "      <th>ShortPassing</th>\n",
       "      <th>...</th>\n",
       "      <th>Penalties</th>\n",
       "      <th>Composure</th>\n",
       "      <th>Marking</th>\n",
       "      <th>StandingTackle</th>\n",
       "      <th>SlidingTackle</th>\n",
       "      <th>GKDiving</th>\n",
       "      <th>GKHandling</th>\n",
       "      <th>GKKicking</th>\n",
       "      <th>GKPositioning</th>\n",
       "      <th>GKReflexes</th>\n",
       "    </tr>\n",
       "    <tr>\n",
       "      <th>Position</th>\n",
       "      <th></th>\n",
       "      <th></th>\n",
       "      <th></th>\n",
       "      <th></th>\n",
       "      <th></th>\n",
       "      <th></th>\n",
       "      <th></th>\n",
       "      <th></th>\n",
       "      <th></th>\n",
       "      <th></th>\n",
       "      <th></th>\n",
       "      <th></th>\n",
       "      <th></th>\n",
       "      <th></th>\n",
       "      <th></th>\n",
       "      <th></th>\n",
       "      <th></th>\n",
       "      <th></th>\n",
       "      <th></th>\n",
       "      <th></th>\n",
       "      <th></th>\n",
       "    </tr>\n",
       "  </thead>\n",
       "  <tbody>\n",
       "    <tr>\n",
       "      <th>False</th>\n",
       "      <td>403135</td>\n",
       "      <td>1071488</td>\n",
       "      <td>1152975</td>\n",
       "      <td>17984.0</td>\n",
       "      <td>48440.0</td>\n",
       "      <td>40829.0</td>\n",
       "      <td>873732.0</td>\n",
       "      <td>802267.0</td>\n",
       "      <td>920005.0</td>\n",
       "      <td>1009926.0</td>\n",
       "      <td>...</td>\n",
       "      <td>840456.0</td>\n",
       "      <td>972969.0</td>\n",
       "      <td>827269.0</td>\n",
       "      <td>837010.0</td>\n",
       "      <td>800211.0</td>\n",
       "      <td>169266.0</td>\n",
       "      <td>170191.0</td>\n",
       "      <td>170089.0</td>\n",
       "      <td>169752.0</td>\n",
       "      <td>169417.0</td>\n",
       "    </tr>\n",
       "    <tr>\n",
       "      <th>True</th>\n",
       "      <td>52738</td>\n",
       "      <td>130822</td>\n",
       "      <td>141343</td>\n",
       "      <td>2219.0</td>\n",
       "      <td>5042.0</td>\n",
       "      <td>2025.0</td>\n",
       "      <td>28871.0</td>\n",
       "      <td>24333.0</td>\n",
       "      <td>29097.0</td>\n",
       "      <td>55220.0</td>\n",
       "      <td>...</td>\n",
       "      <td>40515.0</td>\n",
       "      <td>91373.0</td>\n",
       "      <td>30831.0</td>\n",
       "      <td>28636.0</td>\n",
       "      <td>28496.0</td>\n",
       "      <td>132281.0</td>\n",
       "      <td>127308.0</td>\n",
       "      <td>124492.0</td>\n",
       "      <td>127671.0</td>\n",
       "      <td>133856.0</td>\n",
       "    </tr>\n",
       "  </tbody>\n",
       "</table>\n",
       "<p>2 rows × 40 columns</p>\n",
       "</div>"
      ],
      "text/plain": [
       "             Age  Overall  Potential  International Reputation  Weak Foot  \\\n",
       "Position                                                                    \n",
       "False     403135  1071488    1152975                   17984.0    48440.0   \n",
       "True       52738   130822     141343                    2219.0     5042.0   \n",
       "\n",
       "          Skill Moves  Crossing  Finishing  HeadingAccuracy  ShortPassing  \\\n",
       "Position                                                                    \n",
       "False         40829.0  873732.0   802267.0         920005.0     1009926.0   \n",
       "True           2025.0   28871.0    24333.0          29097.0       55220.0   \n",
       "\n",
       "          ...  Penalties  Composure   Marking  StandingTackle  SlidingTackle  \\\n",
       "Position  ...                                                                  \n",
       "False     ...   840456.0   972969.0  827269.0        837010.0       800211.0   \n",
       "True      ...    40515.0    91373.0   30831.0         28636.0        28496.0   \n",
       "\n",
       "          GKDiving  GKHandling  GKKicking  GKPositioning  GKReflexes  \n",
       "Position                                                              \n",
       "False     169266.0    170191.0   170089.0       169752.0    169417.0  \n",
       "True      132281.0    127308.0   124492.0       127671.0    133856.0  \n",
       "\n",
       "[2 rows x 40 columns]"
      ]
     },
     "execution_count": 7,
     "metadata": {},
     "output_type": "execute_result"
    }
   ],
   "source": [
    "fifa.groupby(fifa['Position']=='GK').sum()"
   ]
  },
  {
   "cell_type": "code",
   "execution_count": 8,
   "metadata": {},
   "outputs": [
    {
     "data": {
      "text/plain": [
       "3        NaN\n",
       "9        NaN\n",
       "18       NaN\n",
       "19       NaN\n",
       "22       NaN\n",
       "        ... \n",
       "18178    NaN\n",
       "18180    NaN\n",
       "18183    NaN\n",
       "18194    NaN\n",
       "18198    NaN\n",
       "Name: LS, Length: 2025, dtype: object"
      ]
     },
     "execution_count": 8,
     "metadata": {},
     "output_type": "execute_result"
    }
   ],
   "source": [
    "fifa.loc[fifa['Position']=='GK']['LS']"
   ]
  },
  {
   "cell_type": "code",
   "execution_count": 9,
   "metadata": {},
   "outputs": [
    {
     "data": {
      "text/plain": [
       "LS                2025\n",
       "ST                2025\n",
       "RS                2025\n",
       "LW                2025\n",
       "LF                2025\n",
       "CF                2025\n",
       "RF                2025\n",
       "RW                2025\n",
       "LAM               2025\n",
       "CAM               2025\n",
       "RAM               2025\n",
       "LM                2025\n",
       "LCM               2025\n",
       "CM                2025\n",
       "RCM               2025\n",
       "RM                2025\n",
       "LWB               2025\n",
       "LDM               2025\n",
       "CDM               2025\n",
       "RDM               2025\n",
       "RWB               2025\n",
       "LB                2025\n",
       "LCB               2025\n",
       "CB                2025\n",
       "RCB               2025\n",
       "RB                2025\n",
       "Release Clause    1504\n",
       "dtype: int64"
      ]
     },
     "execution_count": 9,
     "metadata": {},
     "output_type": "execute_result"
    }
   ],
   "source": [
    "fifa.isnull().sum()[fifa.isnull().sum()>0]"
   ]
  },
  {
   "cell_type": "code",
   "execution_count": 10,
   "metadata": {},
   "outputs": [],
   "source": [
    "fifa.fillna(value=0,inplace=True)"
   ]
  },
  {
   "cell_type": "code",
   "execution_count": 11,
   "metadata": {},
   "outputs": [
    {
     "data": {
      "text/plain": [
       "Name              0\n",
       "Age               0\n",
       "Overall           0\n",
       "Potential         0\n",
       "Value             0\n",
       "                 ..\n",
       "GKHandling        0\n",
       "GKKicking         0\n",
       "GKPositioning     0\n",
       "GKReflexes        0\n",
       "Release Clause    0\n",
       "Length: 76, dtype: int64"
      ]
     },
     "execution_count": 11,
     "metadata": {},
     "output_type": "execute_result"
    }
   ],
   "source": [
    "fifa.isnull().sum()"
   ]
  },
  {
   "cell_type": "code",
   "execution_count": 12,
   "metadata": {},
   "outputs": [
    {
     "data": {
      "text/plain": [
       "0        €110.5M\n",
       "1           €77M\n",
       "2        €118.5M\n",
       "3           €72M\n",
       "4          €102M\n",
       "          ...   \n",
       "18202       €60K\n",
       "18203       €60K\n",
       "18204       €60K\n",
       "18205       €60K\n",
       "18206       €60K\n",
       "Name: Value, Length: 18147, dtype: object"
      ]
     },
     "execution_count": 12,
     "metadata": {},
     "output_type": "execute_result"
    }
   ],
   "source": [
    "fifa['Value']"
   ]
  },
  {
   "cell_type": "code",
   "execution_count": 13,
   "metadata": {},
   "outputs": [],
   "source": [
    "def CurrenccyChange(money):\n",
    "    if money[-1] == 'M':\n",
    "        value = float(money[1:-1])*1e6\n",
    "        return value\n",
    "    elif money[-1] == 'K':\n",
    "        value = float(money[1:-1])*1e3\n",
    "        return value\n",
    "    else:\n",
    "        return 0\n",
    "def skillConverter(val):\n",
    "    if type(val) == str:\n",
    "        s1 = val[0:2]\n",
    "        s2 = val[-1]\n",
    "        val = int(s1) + int(s2)\n",
    "        return val\n",
    "    \n",
    "    else:\n",
    "        return val\n",
    "\n",
    "def position_simplifier(val):\n",
    "    \n",
    "    if val == 'RF' or val == 'ST' or val == 'LF' or val == 'RS' or val == 'LS' or val == 'CF':\n",
    "        val = 'F'\n",
    "        return val\n",
    "        \n",
    "    elif val == 'LW' or val == 'RCM' or val == 'LCM' or val == 'LDM' or val == 'CAM' or val == 'CDM' or val == 'RM' \\\n",
    "         or val == 'LAM' or val == 'LM' or val == 'RDM' or val == 'RW' or val == 'CM' or val == 'RAM':\n",
    "        val = 'M'\n",
    "        return val\n",
    "\n",
    "    \n",
    "    elif val == 'RCB' or val == 'CB' or val == 'LCB' or val == 'LB' or val == 'RB' or val == 'RWB' or val == 'LWB':\n",
    "        val = 'D'\n",
    "        return val\n",
    "    \n",
    "    else:\n",
    "        return val"
   ]
  },
  {
   "cell_type": "code",
   "execution_count": 14,
   "metadata": {},
   "outputs": [],
   "source": [
    "fifa['Value'] = fifa['Value'].apply(CurrenccyChange)"
   ]
  },
  {
   "cell_type": "code",
   "execution_count": 15,
   "metadata": {},
   "outputs": [],
   "source": [
    "skill_columns = ['LS', 'ST', 'RS', 'LW', 'LF', 'CF', 'RF', 'RW', 'LAM', 'CAM',\n",
    "       'RAM', 'LM', 'LCM', 'CM', 'RCM', 'RM', 'LWB', 'LDM', 'CDM', 'RDM',\n",
    "       'RWB', 'LB', 'LCB', 'CB', 'RCB', 'RB']\n",
    "for column in skill_columns:\n",
    "    fifa[column] = fifa[column].apply(skillConverter)"
   ]
  },
  {
   "cell_type": "code",
   "execution_count": 16,
   "metadata": {},
   "outputs": [],
   "source": [
    "fifa['Position'] = fifa['Position'].apply(position_simplifier)"
   ]
  },
  {
   "cell_type": "code",
   "execution_count": 17,
   "metadata": {},
   "outputs": [
    {
     "name": "stdout",
     "output_type": "stream",
     "text": [
      "<class 'pandas.core.frame.DataFrame'>\n",
      "Int64Index: 18147 entries, 0 to 18206\n",
      "Data columns (total 76 columns):\n",
      " #   Column                    Non-Null Count  Dtype  \n",
      "---  ------                    --------------  -----  \n",
      " 0   Name                      18147 non-null  object \n",
      " 1   Age                       18147 non-null  int64  \n",
      " 2   Overall                   18147 non-null  int64  \n",
      " 3   Potential                 18147 non-null  int64  \n",
      " 4   Value                     18147 non-null  float64\n",
      " 5   Wage                      18147 non-null  object \n",
      " 6   Preferred Foot            18147 non-null  object \n",
      " 7   International Reputation  18147 non-null  float64\n",
      " 8   Weak Foot                 18147 non-null  float64\n",
      " 9   Skill Moves               18147 non-null  float64\n",
      " 10  Work Rate                 18147 non-null  object \n",
      " 11  Body Type                 18147 non-null  object \n",
      " 12  Position                  18147 non-null  object \n",
      " 13  Height                    18147 non-null  object \n",
      " 14  Weight                    18147 non-null  object \n",
      " 15  LS                        18147 non-null  int64  \n",
      " 16  ST                        18147 non-null  int64  \n",
      " 17  RS                        18147 non-null  int64  \n",
      " 18  LW                        18147 non-null  int64  \n",
      " 19  LF                        18147 non-null  int64  \n",
      " 20  CF                        18147 non-null  int64  \n",
      " 21  RF                        18147 non-null  int64  \n",
      " 22  RW                        18147 non-null  int64  \n",
      " 23  LAM                       18147 non-null  int64  \n",
      " 24  CAM                       18147 non-null  int64  \n",
      " 25  RAM                       18147 non-null  int64  \n",
      " 26  LM                        18147 non-null  int64  \n",
      " 27  LCM                       18147 non-null  int64  \n",
      " 28  CM                        18147 non-null  int64  \n",
      " 29  RCM                       18147 non-null  int64  \n",
      " 30  RM                        18147 non-null  int64  \n",
      " 31  LWB                       18147 non-null  int64  \n",
      " 32  LDM                       18147 non-null  int64  \n",
      " 33  CDM                       18147 non-null  int64  \n",
      " 34  RDM                       18147 non-null  int64  \n",
      " 35  RWB                       18147 non-null  int64  \n",
      " 36  LB                        18147 non-null  int64  \n",
      " 37  LCB                       18147 non-null  int64  \n",
      " 38  CB                        18147 non-null  int64  \n",
      " 39  RCB                       18147 non-null  int64  \n",
      " 40  RB                        18147 non-null  int64  \n",
      " 41  Crossing                  18147 non-null  float64\n",
      " 42  Finishing                 18147 non-null  float64\n",
      " 43  HeadingAccuracy           18147 non-null  float64\n",
      " 44  ShortPassing              18147 non-null  float64\n",
      " 45  Volleys                   18147 non-null  float64\n",
      " 46  Dribbling                 18147 non-null  float64\n",
      " 47  Curve                     18147 non-null  float64\n",
      " 48  FKAccuracy                18147 non-null  float64\n",
      " 49  LongPassing               18147 non-null  float64\n",
      " 50  BallControl               18147 non-null  float64\n",
      " 51  Acceleration              18147 non-null  float64\n",
      " 52  SprintSpeed               18147 non-null  float64\n",
      " 53  Agility                   18147 non-null  float64\n",
      " 54  Reactions                 18147 non-null  float64\n",
      " 55  Balance                   18147 non-null  float64\n",
      " 56  ShotPower                 18147 non-null  float64\n",
      " 57  Jumping                   18147 non-null  float64\n",
      " 58  Stamina                   18147 non-null  float64\n",
      " 59  Strength                  18147 non-null  float64\n",
      " 60  LongShots                 18147 non-null  float64\n",
      " 61  Aggression                18147 non-null  float64\n",
      " 62  Interceptions             18147 non-null  float64\n",
      " 63  Positioning               18147 non-null  float64\n",
      " 64  Vision                    18147 non-null  float64\n",
      " 65  Penalties                 18147 non-null  float64\n",
      " 66  Composure                 18147 non-null  float64\n",
      " 67  Marking                   18147 non-null  float64\n",
      " 68  StandingTackle            18147 non-null  float64\n",
      " 69  SlidingTackle             18147 non-null  float64\n",
      " 70  GKDiving                  18147 non-null  float64\n",
      " 71  GKHandling                18147 non-null  float64\n",
      " 72  GKKicking                 18147 non-null  float64\n",
      " 73  GKPositioning             18147 non-null  float64\n",
      " 74  GKReflexes                18147 non-null  float64\n",
      " 75  Release Clause            18147 non-null  object \n",
      "dtypes: float64(38), int64(29), object(9)\n",
      "memory usage: 10.7+ MB\n"
     ]
    }
   ],
   "source": [
    "fifa.info()"
   ]
  },
  {
   "cell_type": "markdown",
   "metadata": {},
   "source": [
    "# Classification"
   ]
  },
  {
   "cell_type": "code",
   "execution_count": 18,
   "metadata": {},
   "outputs": [],
   "source": [
    "fifa_ml = fifa.copy()"
   ]
  },
  {
   "cell_type": "code",
   "execution_count": 19,
   "metadata": {},
   "outputs": [],
   "source": [
    "y = fifa_ml['Position']\n",
    "X = fifa_ml.drop(columns=['Name','Body Type','Height', 'Weight'])"
   ]
  },
  {
   "cell_type": "code",
   "execution_count": 20,
   "metadata": {},
   "outputs": [],
   "source": [
    "X = pd.get_dummies(X)"
   ]
  },
  {
   "cell_type": "code",
   "execution_count": 21,
   "metadata": {},
   "outputs": [],
   "source": [
    "def position_num(pos):\n",
    "    if pos == 'GK':\n",
    "        return 0\n",
    "    elif pos == 'D':\n",
    "        return 1\n",
    "    elif pos == 'M':\n",
    "        return 2\n",
    "    else:\n",
    "        return 3\n",
    "\n",
    "fifa_ml['Position'] = fifa_ml['Position'].apply(position_num)"
   ]
  },
  {
   "cell_type": "code",
   "execution_count": 22,
   "metadata": {},
   "outputs": [
    {
     "data": {
      "text/plain": [
       "Index(['Age', 'Overall', 'Potential', 'Value', 'International Reputation',\n",
       "       'Weak Foot', 'Skill Moves', 'LS', 'ST', 'RS',\n",
       "       ...\n",
       "       'Release Clause_€98K', 'Release Clause_€990K', 'Release Clause_€991K',\n",
       "       'Release Clause_€992K', 'Release Clause_€994K', 'Release Clause_€997K',\n",
       "       'Release Clause_€998K', 'Release Clause_€999K', 'Release Clause_€99K',\n",
       "       'Release Clause_€9M'],\n",
       "      dtype='object', length=1471)"
      ]
     },
     "execution_count": 22,
     "metadata": {},
     "output_type": "execute_result"
    }
   ],
   "source": [
    "X.select_dtypes(exclude=object).columns"
   ]
  },
  {
   "cell_type": "code",
   "execution_count": 23,
   "metadata": {},
   "outputs": [
    {
     "name": "stdout",
     "output_type": "stream",
     "text": [
      "Index(['Age', 'Overall', 'Potential', 'Value', 'International Reputation',\n",
      "       'Weak Foot', 'Skill Moves', 'LS', 'ST', 'RS', 'LW', 'LF', 'CF', 'RF',\n",
      "       'RW', 'LAM', 'CAM', 'RAM', 'LM', 'LCM', 'CM', 'RCM', 'RM', 'LWB', 'LDM',\n",
      "       'CDM', 'RDM', 'RWB', 'LB', 'LCB', 'CB', 'RCB', 'RB', 'Crossing',\n",
      "       'Finishing', 'HeadingAccuracy', 'ShortPassing', 'Volleys', 'Dribbling',\n",
      "       'Curve', 'FKAccuracy', 'LongPassing', 'BallControl', 'Acceleration',\n",
      "       'SprintSpeed', 'Agility', 'Reactions', 'Balance', 'ShotPower',\n",
      "       'Jumping', 'Stamina', 'Strength', 'LongShots', 'Aggression',\n",
      "       'Interceptions', 'Positioning', 'Vision', 'Penalties', 'Composure',\n",
      "       'Marking', 'StandingTackle', 'SlidingTackle', 'GKDiving', 'GKHandling',\n",
      "       'GKKicking', 'GKPositioning', 'GKReflexes', 'Wage_€0'],\n",
      "      dtype='object')\n"
     ]
    }
   ],
   "source": [
    "print(X.columns[:68])"
   ]
  },
  {
   "cell_type": "code",
   "execution_count": 24,
   "metadata": {},
   "outputs": [],
   "source": [
    "columns =['Age', 'Overall', 'Potential', 'Value', 'International Reputation',\n",
    "       'Weak Foot', 'Skill Moves', 'LS', 'ST', 'RS', 'LW', 'LF', 'CF', 'RF',\n",
    "       'RW', 'LAM', 'CAM', 'RAM', 'LM', 'LCM', 'CM', 'RCM', 'RM', 'LWB', 'LDM',\n",
    "       'CDM', 'RDM', 'RWB', 'LB', 'LCB', 'CB', 'RCB', 'RB', 'Crossing',\n",
    "       'Finishing', 'HeadingAccuracy', 'ShortPassing', 'Volleys', 'Dribbling',\n",
    "       'Curve', 'FKAccuracy', 'LongPassing', 'BallControl', 'Acceleration',\n",
    "       'SprintSpeed', 'Agility', 'Reactions', 'Balance', 'ShotPower',\n",
    "       'Jumping', 'Stamina', 'Strength', 'LongShots', 'Aggression',\n",
    "       'Interceptions', 'Positioning', 'Vision', 'Penalties', 'Composure',\n",
    "       'Marking', 'StandingTackle', 'SlidingTackle', 'GKDiving', 'GKHandling',\n",
    "       'GKKicking', 'GKPositioning', 'GKReflexes']\n",
    "X_train, X_test, y_train, y_test = train_test_split(X[columns], y, test_size=0.2, random_state=42)\n"
   ]
  },
  {
   "cell_type": "code",
   "execution_count": 25,
   "metadata": {},
   "outputs": [],
   "source": [
    "sc = StandardScaler()\n",
    "X_train = sc.fit_transform(X_train)\n",
    "X_test = sc.transform(X_test)"
   ]
  },
  {
   "cell_type": "markdown",
   "metadata": {},
   "source": [
    "### Logistic Regression"
   ]
  },
  {
   "cell_type": "code",
   "execution_count": 26,
   "metadata": {},
   "outputs": [
    {
     "name": "stderr",
     "output_type": "stream",
     "text": [
      "D:\\Users\\MSI\\anaconda3\\lib\\site-packages\\sklearn\\linear_model\\_logistic.py:940: ConvergenceWarning: lbfgs failed to converge (status=1):\n",
      "STOP: TOTAL NO. of ITERATIONS REACHED LIMIT.\n",
      "\n",
      "Increase the number of iterations (max_iter) or scale the data as shown in:\n",
      "    https://scikit-learn.org/stable/modules/preprocessing.html\n",
      "Please also refer to the documentation for alternative solver options:\n",
      "    https://scikit-learn.org/stable/modules/linear_model.html#logistic-regression\n",
      "  extra_warning_msg=_LOGISTIC_SOLVER_CONVERGENCE_MSG)\n"
     ]
    },
    {
     "data": {
      "text/plain": [
       "LogisticRegression(C=1.0, class_weight=None, dual=False, fit_intercept=True,\n",
       "                   intercept_scaling=1, l1_ratio=None, max_iter=500,\n",
       "                   multi_class='auto', n_jobs=None, penalty='l2',\n",
       "                   random_state=None, solver='lbfgs', tol=0.0001, verbose=0,\n",
       "                   warm_start=False)"
      ]
     },
     "execution_count": 26,
     "metadata": {},
     "output_type": "execute_result"
    }
   ],
   "source": [
    "clr = LogisticRegression(max_iter=500)\n",
    "clr.fit(X_train,y_train)"
   ]
  },
  {
   "cell_type": "code",
   "execution_count": 27,
   "metadata": {},
   "outputs": [
    {
     "name": "stdout",
     "output_type": "stream",
     "text": [
      "0.9154269972451791\n",
      "              precision    recall  f1-score   support\n",
      "\n",
      "           D       0.93      0.93      0.93      1157\n",
      "           F       0.86      0.85      0.86       525\n",
      "          GK       1.00      1.00      1.00       407\n",
      "           M       0.90      0.91      0.90      1541\n",
      "\n",
      "    accuracy                           0.92      3630\n",
      "   macro avg       0.92      0.92      0.92      3630\n",
      "weighted avg       0.92      0.92      0.92      3630\n",
      "\n"
     ]
    },
    {
     "data": {
      "text/plain": [
       "<matplotlib.axes._subplots.AxesSubplot at 0x241b76d2e88>"
      ]
     },
     "execution_count": 27,
     "metadata": {},
     "output_type": "execute_result"
    },
    {
     "data": {
      "image/png": "[encoded data removed]",
      "text/plain": [
       "<Figure size 432x288 with 2 Axes>"
      ]
     },
     "metadata": {
      "needs_background": "light"
     },
     "output_type": "display_data"
    }
   ],
   "source": [
    "predict = clr.predict(X_test)\n",
    "print(accuracy_score(y_test,predict))\n",
    "print(classification_report(y_test,predict))\n",
    "sns.heatmap(confusion_matrix(y_test,predict), annot=True)"
   ]
  },
  {
   "cell_type": "markdown",
   "metadata": {},
   "source": [
    "### RegressionTree"
   ]
  },
  {
   "cell_type": "code",
   "execution_count": 28,
   "metadata": {},
   "outputs": [
    {
     "data": {
      "text/plain": [
       "RandomForestClassifier(bootstrap=True, ccp_alpha=0.0, class_weight=None,\n",
       "                       criterion='gini', max_depth=None, max_features='auto',\n",
       "                       max_leaf_nodes=None, max_samples=None,\n",
       "                       min_impurity_decrease=0.0, min_impurity_split=None,\n",
       "                       min_samples_leaf=1, min_samples_split=2,\n",
       "                       min_weight_fraction_leaf=0.0, n_estimators=100,\n",
       "                       n_jobs=None, oob_score=False, random_state=None,\n",
       "                       verbose=0, warm_start=False)"
      ]
     },
     "execution_count": 28,
     "metadata": {},
     "output_type": "execute_result"
    }
   ],
   "source": [
    "crf = RandomForestClassifier(max_depth= 60, min_samples_split=2, n_estimators=600)\n",
    "crf.fit(X_train,y_train)\n",
    "crf1 = RandomForestClassifier()\n",
    "crf1.fit(X_train,y_train)"
   ]
  },
  {
   "cell_type": "code",
   "execution_count": 50,
   "metadata": {},
   "outputs": [
    {
     "name": "stdout",
     "output_type": "stream",
     "text": [
      "0.918732782369146\n",
      "              precision    recall  f1-score   support\n",
      "\n",
      "           D       0.92      0.94      0.93      1157\n",
      "           F       0.88      0.85      0.87       525\n",
      "          GK       1.00      1.00      1.00       407\n",
      "           M       0.91      0.90      0.90      1541\n",
      "\n",
      "    accuracy                           0.92      3630\n",
      "   macro avg       0.93      0.92      0.93      3630\n",
      "weighted avg       0.92      0.92      0.92      3630\n",
      "\n"
     ]
    },
    {
     "data": {
      "text/plain": [
       "<matplotlib.axes._subplots.AxesSubplot at 0x241b7cb5448>"
      ]
     },
     "execution_count": 50,
     "metadata": {},
     "output_type": "execute_result"
    },
    {
     "data": {
      "image/png": "[encoded data removed]",
      "text/plain": [
       "<Figure size 432x288 with 2 Axes>"
      ]
     },
     "metadata": {
      "needs_background": "light"
     },
     "output_type": "display_data"
    }
   ],
   "source": [
    "predict_forest = crf.predict(X_test)\n",
    "print(accuracy_score(y_test,predict_forest))\n",
    "print(classification_report(y_test,predict_forest))\n",
    "sns.heatmap(confusion_matrix(y_test,predict_forest), annot=True)\n",
    "\n"
   ]
  },
  {
   "cell_type": "code",
   "execution_count": 51,
   "metadata": {},
   "outputs": [
    {
     "name": "stdout",
     "output_type": "stream",
     "text": [
      "0.918732782369146\n",
      "              precision    recall  f1-score   support\n",
      "\n",
      "           D       0.93      0.94      0.93      1157\n",
      "           F       0.87      0.86      0.87       525\n",
      "          GK       1.00      1.00      1.00       407\n",
      "           M       0.91      0.90      0.90      1541\n",
      "\n",
      "    accuracy                           0.92      3630\n",
      "   macro avg       0.93      0.93      0.93      3630\n",
      "weighted avg       0.92      0.92      0.92      3630\n",
      "\n"
     ]
    },
    {
     "data": {
      "text/plain": [
       "<matplotlib.axes._subplots.AxesSubplot at 0x241bbc77d08>"
      ]
     },
     "execution_count": 51,
     "metadata": {},
     "output_type": "execute_result"
    },
    {
     "data": {
      "image/png": "[encoded data removed]",
      "text/plain": [
       "<Figure size 432x288 with 2 Axes>"
      ]
     },
     "metadata": {
      "needs_background": "light"
     },
     "output_type": "display_data"
    }
   ],
   "source": [
    "predict_forest1 = crf1.predict(X_test)\n",
    "print(accuracy_score(y_test,predict_forest1))\n",
    "print(classification_report(y_test,predict_forest1))\n",
    "sns.heatmap(confusion_matrix(y_test,predict_forest1), annot=True)"
   ]
  },
  {
   "cell_type": "code",
   "execution_count": 47,
   "metadata": {},
   "outputs": [],
   "source": [
    "n_estimators = [int(x) for x in np.linspace(100,2000,20)]\n",
    "min_samples_split = [int(x) for x in np.linspace(2,15,5)]\n",
    "max_features = ['auto','log2']\n",
    "criterion = ['gini','entrpopy']\n",
    "min_samples_leaf = [1, 2, 4]\n",
    "max_depth = [int(x) for x in np.linspace(10, 110, num = 11)]\n",
    "max_depth.append(None)\n",
    "\n",
    "random_grid = {'n_estimators': n_estimators,\n",
    "               'max_features': max_features,\n",
    "               'max_depth': max_depth,\n",
    "               'min_samples_split': min_samples_split,\n",
    "               'min_samples_leaf': min_samples_leaf,\n",
    "               'criterion': criterion}"
   ]
  },
  {
   "cell_type": "code",
   "execution_count": 48,
   "metadata": {},
   "outputs": [],
   "source": [
    "# rf = RandomForestClassifier(random_state=42)\n",
    "# rs = RandomizedSearchCV(rf,random_grid,n_iter=100,cv=5,n_jobs=-1,random_state=42)\n",
    "# rs.fit(X_train,y_train)"
   ]
  },
  {
   "cell_type": "code",
   "execution_count": 49,
   "metadata": {},
   "outputs": [
    {
     "ename": "NameError",
     "evalue": "name 'rs' is not defined",
     "output_type": "error",
     "traceback": [
      "\u001b[1;31m---------------------------------------------------------------------------\u001b[0m",
      "\u001b[1;31mNameError\u001b[0m                                 Traceback (most recent call last)",
      "\u001b[1;32m<ipython-input-49-db459cf1dffd>\u001b[0m in \u001b[0;36m<module>\u001b[1;34m\u001b[0m\n\u001b[1;32m----> 1\u001b[1;33m \u001b[0mrs\u001b[0m\u001b[1;33m.\u001b[0m\u001b[0mbest_params_\u001b[0m\u001b[1;33m\u001b[0m\u001b[1;33m\u001b[0m\u001b[0m\n\u001b[0m",
      "\u001b[1;31mNameError\u001b[0m: name 'rs' is not defined"
     ]
    }
   ],
   "source": [
    "rs.best_params_"
   ]
  },
  {
   "cell_type": "code",
   "execution_count": 57,
   "metadata": {},
   "outputs": [
    {
     "data": {
      "text/plain": [
       "RM                          0.701364\n",
       "Dribbling                   0.696398\n",
       "ShotPower                   0.687332\n",
       "BallControl                 0.669807\n",
       "GKDiving                    0.637548\n",
       "RCM                         0.637297\n",
       "LCM                         0.637297\n",
       "CM                          0.637297\n",
       "GKReflexes                  0.636032\n",
       "GKHandling                  0.634980\n",
       "GKPositioning               0.633580\n",
       "GKKicking                   0.632453\n",
       "Skill Moves                 0.590134\n",
       "Curve                       0.574083\n",
       "ShortPassing                0.536110\n",
       "Agility                     0.527498\n",
       "FKAccuracy                  0.522632\n",
       "Vision                      0.516432\n",
       "Acceleration                0.515991\n",
       "SprintSpeed                 0.507956\n",
       "HeadingAccuracy             0.478050\n",
       "Balance                     0.449887\n",
       "Crossing                    0.447057\n",
       "RWB                         0.444636\n",
       "LWB                         0.444636\n",
       "Stamina                     0.429684\n",
       "RDM                         0.409399\n",
       "CDM                         0.409399\n",
       "LDM                         0.409399\n",
       "RB                          0.396134\n",
       "LB                          0.396134\n",
       "LongPassing                 0.357396\n",
       "Composure                   0.342954\n",
       "RCB                         0.308055\n",
       "LCB                         0.308055\n",
       "CB                          0.308055\n",
       "Weak Foot                   0.287384\n",
       "Aggression                  0.198338\n",
       "SlidingTackle               0.134097\n",
       "Reactions                   0.105039\n",
       "Interceptions               0.102033\n",
       "StandingTackle              0.098434\n",
       "Potential                   0.086100\n",
       "Age                         0.083847\n",
       "Value                       0.079796\n",
       "Jumping                     0.078893\n",
       "Overall                     0.054307\n",
       "Marking                     0.045772\n",
       "International Reputation    0.036202\n",
       "Strength                    0.010477\n",
       "Name: Position, dtype: float64"
      ]
     },
     "execution_count": 57,
     "metadata": {},
     "output_type": "execute_result"
    }
   ],
   "source": [
    "fifa_ml.corr().abs()['Position'].sort_values(ascending=False).tail(50)"
   ]
  },
  {
   "cell_type": "markdown",
   "metadata": {},
   "source": [
    "# Regression"
   ]
  },
  {
   "cell_type": "code",
   "execution_count": 60,
   "metadata": {},
   "outputs": [],
   "source": [
    "fifa_ml.corr().abs()['Overall'].sort_values(ascending=False).tail(50)\n",
    "fifa_ml.columns\n",
    "X = fifa_ml.drop(columns=['Name','Age','Potential','International Reputation'])"
   ]
  },
  {
   "cell_type": "code",
   "execution_count": 72,
   "metadata": {},
   "outputs": [],
   "source": [
    "# X.drop(columns=['Overall'], inplace = True)\n",
    "X.drop(columns = ['Wage', 'Preferred Foot', 'Work Rate', 'Body Type', 'Height', 'Weight',\n",
    "       'Release Clause'],inplace =True)"
   ]
  },
  {
   "cell_type": "code",
   "execution_count": 65,
   "metadata": {},
   "outputs": [],
   "source": [
    "y = fifa_ml['Overall'].copy()"
   ]
  },
  {
   "cell_type": "code",
   "execution_count": 75,
   "metadata": {},
   "outputs": [],
   "source": [
    "X_train, X_test, y_train, y_test = train_test_split(X, y, test_size=0.2, random_state=42)"
   ]
  },
  {
   "cell_type": "code",
   "execution_count": 73,
   "metadata": {},
   "outputs": [
    {
     "data": {
      "text/plain": [
       "Index([], dtype='object')"
      ]
     },
     "execution_count": 73,
     "metadata": {},
     "output_type": "execute_result"
    }
   ],
   "source": [
    "X.select_dtypes(include=object).columns"
   ]
  },
  {
   "cell_type": "code",
   "execution_count": 76,
   "metadata": {},
   "outputs": [],
   "source": [
    "linmodel = LinearRegression()"
   ]
  },
  {
   "cell_type": "code",
   "execution_count": 77,
   "metadata": {},
   "outputs": [
    {
     "data": {
      "text/plain": [
       "LinearRegression(copy_X=True, fit_intercept=True, n_jobs=None, normalize=False)"
      ]
     },
     "execution_count": 77,
     "metadata": {},
     "output_type": "execute_result"
    }
   ],
   "source": [
    "linmodel.fit(X_train,y_train)"
   ]
  },
  {
   "cell_type": "code",
   "execution_count": 80,
   "metadata": {},
   "outputs": [],
   "source": [
    "predict_lin = linmodel.predict(X_test)\n"
   ]
  },
  {
   "cell_type": "code",
   "execution_count": 81,
   "metadata": {},
   "outputs": [
    {
     "name": "stdout",
     "output_type": "stream",
     "text": [
      "MSE:  5.332013515477622\n",
      "R2:  0.8856251994450202\n"
     ]
    }
   ],
   "source": [
    "print('MSE: ',mean_squared_error(y_test,predict_lin))\n",
    "print('R2: ',r2_score(y_test,predict_lin))"
   ]
  },
  {
   "cell_type": "code",
   "execution_count": 83,
   "metadata": {},
   "outputs": [],
   "source": [
    "logmodel = LogisticRegression()"
   ]
  },
  {
   "cell_type": "code",
   "execution_count": 89,
   "metadata": {},
   "outputs": [
    {
     "name": "stderr",
     "output_type": "stream",
     "text": [
      "D:\\Users\\MSI\\anaconda3\\lib\\site-packages\\sklearn\\linear_model\\_logistic.py:940: ConvergenceWarning: lbfgs failed to converge (status=1):\n",
      "STOP: TOTAL NO. of ITERATIONS REACHED LIMIT.\n",
      "\n",
      "Increase the number of iterations (max_iter) or scale the data as shown in:\n",
      "    https://scikit-learn.org/stable/modules/preprocessing.html\n",
      "Please also refer to the documentation for alternative solver options:\n",
      "    https://scikit-learn.org/stable/modules/linear_model.html#logistic-regression\n",
      "  extra_warning_msg=_LOGISTIC_SOLVER_CONVERGENCE_MSG)\n"
     ]
    }
   ],
   "source": [
    "logmodel.fit(X_train,y_train)\n",
    "predict_log = logmodel.predict(X_test)"
   ]
  },
  {
   "cell_type": "code",
   "execution_count": 90,
   "metadata": {},
   "outputs": [
    {
     "name": "stdout",
     "output_type": "stream",
     "text": [
      "MSE:  121.99173553719008\n",
      "R2:  -1.6167938961370236\n"
     ]
    }
   ],
   "source": [
    "print('MSE: ',mean_squared_error(y_test,predict_log))\n",
    "print('R2: ',r2_score(y_test,predict_log))"
   ]
  },
  {
   "cell_type": "code",
   "execution_count": 91,
   "metadata": {},
   "outputs": [
    {
     "data": {
      "text/plain": [
       "RandomForestRegressor(bootstrap=True, ccp_alpha=0.0, criterion='mse',\n",
       "                      max_depth=None, max_features='auto', max_leaf_nodes=None,\n",
       "                      max_samples=None, min_impurity_decrease=0.0,\n",
       "                      min_impurity_split=None, min_samples_leaf=1,\n",
       "                      min_samples_split=6, min_weight_fraction_leaf=0.0,\n",
       "                      n_estimators=100, n_jobs=None, oob_score=False,\n",
       "                      random_state=None, verbose=0, warm_start=False)"
      ]
     },
     "execution_count": 91,
     "metadata": {},
     "output_type": "execute_result"
    }
   ],
   "source": [
    "forestmodel = RandomForestRegressor(min_samples_split=6)\n",
    "forestmodel.fit(X_train,y_train)"
   ]
  },
  {
   "cell_type": "code",
   "execution_count": 92,
   "metadata": {},
   "outputs": [
    {
     "name": "stdout",
     "output_type": "stream",
     "text": [
      "MSE:  0.7689289216278528\n",
      "R2:  0.9835060260449727\n"
     ]
    }
   ],
   "source": [
    "predict_forest = forestmodel.predict(X_test)\n",
    "print('MSE: ',mean_squared_error(y_test,predict_forest))\n",
    "print('R2: ',r2_score(y_test,predict_forest))"
   ]
  },
  {
   "cell_type": "code",
   "execution_count": 94,
   "metadata": {},
   "outputs": [
    {
     "ename": "ValueError",
     "evalue": "x, y, and format string must not be None",
     "output_type": "error",
     "traceback": [
      "\u001b[1;31m---------------------------------------------------------------------------\u001b[0m",
      "\u001b[1;31mValueError\u001b[0m                                Traceback (most recent call last)",
      "\u001b[1;32m<ipython-input-94-c57789a296a4>\u001b[0m in \u001b[0;36m<module>\u001b[1;34m\u001b[0m\n\u001b[1;32m----> 1\u001b[1;33m \u001b[0mplt\u001b[0m\u001b[1;33m.\u001b[0m\u001b[0mplot\u001b[0m\u001b[1;33m(\u001b[0m\u001b[0mpredict_forest\u001b[0m\u001b[1;33m.\u001b[0m\u001b[0msort\u001b[0m\u001b[1;33m(\u001b[0m\u001b[1;33m)\u001b[0m\u001b[1;33m)\u001b[0m\u001b[1;33m\u001b[0m\u001b[1;33m\u001b[0m\u001b[0m\n\u001b[0m",
      "\u001b[1;32mD:\\Users\\MSI\\anaconda3\\lib\\site-packages\\matplotlib\\pyplot.py\u001b[0m in \u001b[0;36mplot\u001b[1;34m(scalex, scaley, data, *args, **kwargs)\u001b[0m\n\u001b[0;32m   2794\u001b[0m     return gca().plot(\n\u001b[0;32m   2795\u001b[0m         *args, scalex=scalex, scaley=scaley, **({\"data\": data} if data\n\u001b[1;32m-> 2796\u001b[1;33m         is not None else {}), **kwargs)\n\u001b[0m\u001b[0;32m   2797\u001b[0m \u001b[1;33m\u001b[0m\u001b[0m\n\u001b[0;32m   2798\u001b[0m \u001b[1;33m\u001b[0m\u001b[0m\n",
      "\u001b[1;32mD:\\Users\\MSI\\anaconda3\\lib\\site-packages\\matplotlib\\axes\\_axes.py\u001b[0m in \u001b[0;36mplot\u001b[1;34m(self, scalex, scaley, data, *args, **kwargs)\u001b[0m\n\u001b[0;32m   1663\u001b[0m         \"\"\"\n\u001b[0;32m   1664\u001b[0m         \u001b[0mkwargs\u001b[0m \u001b[1;33m=\u001b[0m \u001b[0mcbook\u001b[0m\u001b[1;33m.\u001b[0m\u001b[0mnormalize_kwargs\u001b[0m\u001b[1;33m(\u001b[0m\u001b[0mkwargs\u001b[0m\u001b[1;33m,\u001b[0m \u001b[0mmlines\u001b[0m\u001b[1;33m.\u001b[0m\u001b[0mLine2D\u001b[0m\u001b[1;33m.\u001b[0m\u001b[0m_alias_map\u001b[0m\u001b[1;33m)\u001b[0m\u001b[1;33m\u001b[0m\u001b[1;33m\u001b[0m\u001b[0m\n\u001b[1;32m-> 1665\u001b[1;33m         \u001b[0mlines\u001b[0m \u001b[1;33m=\u001b[0m \u001b[1;33m[\u001b[0m\u001b[1;33m*\u001b[0m\u001b[0mself\u001b[0m\u001b[1;33m.\u001b[0m\u001b[0m_get_lines\u001b[0m\u001b[1;33m(\u001b[0m\u001b[1;33m*\u001b[0m\u001b[0margs\u001b[0m\u001b[1;33m,\u001b[0m \u001b[0mdata\u001b[0m\u001b[1;33m=\u001b[0m\u001b[0mdata\u001b[0m\u001b[1;33m,\u001b[0m \u001b[1;33m**\u001b[0m\u001b[0mkwargs\u001b[0m\u001b[1;33m)\u001b[0m\u001b[1;33m]\u001b[0m\u001b[1;33m\u001b[0m\u001b[1;33m\u001b[0m\u001b[0m\n\u001b[0m\u001b[0;32m   1666\u001b[0m         \u001b[1;32mfor\u001b[0m \u001b[0mline\u001b[0m \u001b[1;32min\u001b[0m \u001b[0mlines\u001b[0m\u001b[1;33m:\u001b[0m\u001b[1;33m\u001b[0m\u001b[1;33m\u001b[0m\u001b[0m\n\u001b[0;32m   1667\u001b[0m             \u001b[0mself\u001b[0m\u001b[1;33m.\u001b[0m\u001b[0madd_line\u001b[0m\u001b[1;33m(\u001b[0m\u001b[0mline\u001b[0m\u001b[1;33m)\u001b[0m\u001b[1;33m\u001b[0m\u001b[1;33m\u001b[0m\u001b[0m\n",
      "\u001b[1;32mD:\\Users\\MSI\\anaconda3\\lib\\site-packages\\matplotlib\\axes\\_base.py\u001b[0m in \u001b[0;36m__call__\u001b[1;34m(self, *args, **kwargs)\u001b[0m\n\u001b[0;32m    223\u001b[0m                 \u001b[0mthis\u001b[0m \u001b[1;33m+=\u001b[0m \u001b[0margs\u001b[0m\u001b[1;33m[\u001b[0m\u001b[1;36m0\u001b[0m\u001b[1;33m]\u001b[0m\u001b[1;33m,\u001b[0m\u001b[1;33m\u001b[0m\u001b[1;33m\u001b[0m\u001b[0m\n\u001b[0;32m    224\u001b[0m                 \u001b[0margs\u001b[0m \u001b[1;33m=\u001b[0m \u001b[0margs\u001b[0m\u001b[1;33m[\u001b[0m\u001b[1;36m1\u001b[0m\u001b[1;33m:\u001b[0m\u001b[1;33m]\u001b[0m\u001b[1;33m\u001b[0m\u001b[1;33m\u001b[0m\u001b[0m\n\u001b[1;32m--> 225\u001b[1;33m             \u001b[1;32myield\u001b[0m \u001b[1;32mfrom\u001b[0m \u001b[0mself\u001b[0m\u001b[1;33m.\u001b[0m\u001b[0m_plot_args\u001b[0m\u001b[1;33m(\u001b[0m\u001b[0mthis\u001b[0m\u001b[1;33m,\u001b[0m \u001b[0mkwargs\u001b[0m\u001b[1;33m)\u001b[0m\u001b[1;33m\u001b[0m\u001b[1;33m\u001b[0m\u001b[0m\n\u001b[0m\u001b[0;32m    226\u001b[0m \u001b[1;33m\u001b[0m\u001b[0m\n\u001b[0;32m    227\u001b[0m     \u001b[1;32mdef\u001b[0m \u001b[0mget_next_color\u001b[0m\u001b[1;33m(\u001b[0m\u001b[0mself\u001b[0m\u001b[1;33m)\u001b[0m\u001b[1;33m:\u001b[0m\u001b[1;33m\u001b[0m\u001b[1;33m\u001b[0m\u001b[0m\n",
      "\u001b[1;32mD:\\Users\\MSI\\anaconda3\\lib\\site-packages\\matplotlib\\axes\\_base.py\u001b[0m in \u001b[0;36m_plot_args\u001b[1;34m(self, tup, kwargs)\u001b[0m\n\u001b[0;32m    375\u001b[0m         \u001b[1;31m# downstream.\u001b[0m\u001b[1;33m\u001b[0m\u001b[1;33m\u001b[0m\u001b[1;33m\u001b[0m\u001b[0m\n\u001b[0;32m    376\u001b[0m         \u001b[1;32mif\u001b[0m \u001b[0many\u001b[0m\u001b[1;33m(\u001b[0m\u001b[0mv\u001b[0m \u001b[1;32mis\u001b[0m \u001b[1;32mNone\u001b[0m \u001b[1;32mfor\u001b[0m \u001b[0mv\u001b[0m \u001b[1;32min\u001b[0m \u001b[0mtup\u001b[0m\u001b[1;33m)\u001b[0m\u001b[1;33m:\u001b[0m\u001b[1;33m\u001b[0m\u001b[1;33m\u001b[0m\u001b[0m\n\u001b[1;32m--> 377\u001b[1;33m             \u001b[1;32mraise\u001b[0m \u001b[0mValueError\u001b[0m\u001b[1;33m(\u001b[0m\u001b[1;34m\"x, y, and format string must not be None\"\u001b[0m\u001b[1;33m)\u001b[0m\u001b[1;33m\u001b[0m\u001b[1;33m\u001b[0m\u001b[0m\n\u001b[0m\u001b[0;32m    378\u001b[0m \u001b[1;33m\u001b[0m\u001b[0m\n\u001b[0;32m    379\u001b[0m         \u001b[0mkw\u001b[0m \u001b[1;33m=\u001b[0m \u001b[1;33m{\u001b[0m\u001b[1;33m}\u001b[0m\u001b[1;33m\u001b[0m\u001b[1;33m\u001b[0m\u001b[0m\n",
      "\u001b[1;31mValueError\u001b[0m: x, y, and format string must not be None"
     ]
    },
    {
     "data": {
      "image/png": "[encoded data removed]",
      "text/plain": [
       "<Figure size 432x288 with 1 Axes>"
      ]
     },
     "metadata": {
      "needs_background": "light"
     },
     "output_type": "display_data"
    }
   ],
   "source": []
  },
  {
   "cell_type": "code",
   "execution_count": 95,
   "metadata": {},
   "outputs": [],
   "source": []
  },
  {
   "cell_type": "code",
   "execution_count": 96,
   "metadata": {},
   "outputs": [
    {
     "data": {
      "text/plain": [
       "1"
      ]
     },
     "execution_count": 96,
     "metadata": {},
     "output_type": "execute_result"
    }
   ],
   "source": []
  },
  {
   "cell_type": "code",
   "execution_count": 97,
   "metadata": {},
   "outputs": [],
   "source": []
  },
  {
   "cell_type": "code",
   "execution_count": 98,
   "metadata": {},
   "outputs": [
    {
     "data": {
      "text/plain": [
       "[0, 0, 0, 0, 0, 0, 0, 0, 0, 0]"
      ]
     },
     "execution_count": 98,
     "metadata": {},
     "output_type": "execute_result"
    }
   ],
   "source": []
  },
  {
   "cell_type": "code",
   "execution_count": 99,
   "metadata": {},
   "outputs": [
    {
     "data": {
      "text/plain": [
       "[0, 0, 0, 0, 4, 0, 0, 0, 0, 0]"
      ]
     },
     "execution_count": 99,
     "metadata": {},
     "output_type": "execute_result"
    }
   ],
   "source": []
  },
  {
   "cell_type": "code",
   "execution_count": null,
   "metadata": {},
   "outputs": [],
   "source": []
  }
 ],
 "metadata": {
  "kernelspec": {
   "display_name": "Python 3",
   "language": "python",
   "name": "python3"
  },
  "language_info": {
   "codemirror_mode": {
    "name": "ipython",
    "version": 3
   },
   "file_extension": ".py",
   "mimetype": "text/x-python",
   "name": "python",
   "nbconvert_exporter": "python",
   "pygments_lexer": "ipython3",
   "version": "3.7.6"
  }
 },
 "nbformat": 4,
 "nbformat_minor": 4
}
